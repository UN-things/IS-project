{
  "nbformat": 4,
  "nbformat_minor": 0,
  "metadata": {
    "colab": {
      "name": "IS_code.ipynb",
      "provenance": [],
      "authorship_tag": "ABX9TyNUVLA7G3gevOhgN5LN/J3L",
      "include_colab_link": true
    },
    "kernelspec": {
      "name": "python3",
      "display_name": "Python 3"
    },
    "language_info": {
      "name": "python"
    }
  },
  "cells": [
    {
      "cell_type": "markdown",
      "metadata": {
        "id": "view-in-github",
        "colab_type": "text"
      },
      "source": [
        "<a href=\"https://colab.research.google.com/github/UN-things/IS-project/blob/main/IS_code.ipynb\" target=\"_parent\"><img src=\"https://colab.research.google.com/assets/colab-badge.svg\" alt=\"Open In Colab\"/></a>"
      ]
    },
    {
      "cell_type": "markdown",
      "metadata": {
        "id": "Dbvdjq4AmlTM"
      },
      "source": [
        "# Nombre cool del proyecto :3\n",
        "\n",
        "**Integrantes:**\n",
        "- Valeria Huepa Ducuara\n",
        "- Liseth Yurany Arevalo Yaruro\n",
        "- Guiselle Tatiana Zambrano Penagos"
      ]
    },
    {
      "cell_type": "markdown",
      "metadata": {
        "id": "VAJzlxSYmphW"
      },
      "source": [
        "## Comprensión del Negocio\n",
        "\n",
        "[TripAdvisor](https://www.tripadvisor.co/) es un sitio web estadounidense que proporciona reseñas de contenido relacionado con viajes, es gratuita y se financia con publicidad. Esta empresa busca encontrar un modo de mantener o incrementar el flujo de usuarios que la visitan (huéspedes y propietarios), pues es con este volúmen con el que cuenta para recaudar dinero de la publicidad que expone en su sitio web.\n",
        "\n",
        "Una solución propuesta es emplear las reseñas que los huéspedes dejan y ofrecer un análisis de sentimiento general, donde se puedan evidenciar cuales son los factores que más llaman la atención de los usuarios y cuales son los determinantes de una mala o buena experiencia. Así los propietarios de hoteles que usen el sitio mejorarán su servicio y los huéspedes estararán satifechos con el servicio de los hoteles y las ofertas que ofrezaca la página web, manteniendo e incrementando la cantidad de usuarios que la usen."
      ]
    },
    {
      "cell_type": "markdown",
      "metadata": {
        "id": "0ssin1WFmvtU"
      },
      "source": [
        "### Librerías requeridas"
      ]
    },
    {
      "cell_type": "code",
      "metadata": {
        "id": "a5k5XtdGmwch"
      },
      "source": [
        "%%capture\n",
        "import numpy as np\n",
        "import pandas as pd\n",
        "import matplotlib.pyplot as plt\n",
        "import seaborn as sns\n",
        "import plotly.offline as py\n",
        "import plotly.graph_objs as go\n",
        "import plotly.tools as tls\n",
        "import plotly.express as px\n",
        "import nltk\n",
        "from nltk.sentiment.vader import SentimentIntensityAnalyzer\n",
        "from nltk.corpus import stopwords\n",
        "from nltk.classify import SklearnClassifier\n",
        "from wordcloud import WordCloud,STOPWORDS\n",
        "import matplotlib.pyplot as plt"
      ],
      "execution_count": 1,
      "outputs": []
    },
    {
      "cell_type": "code",
      "metadata": {
        "id": "BOYfcVP8yUoh"
      },
      "source": [
        "%%capture\n",
        "color = sns.color_palette()\n",
        "py.init_notebook_mode(connected=True)\n",
        "nltk.download('vader_lexicon')"
      ],
      "execution_count": 2,
      "outputs": []
    },
    {
      "cell_type": "code",
      "metadata": {
        "id": "yisfTybMySJ6",
        "colab": {
          "base_uri": "https://localhost:8080/"
        },
        "outputId": "affa51bc-6c51-42a3-9948-34cec30b0bf1"
      },
      "source": [
        "! mkdir -p data\n",
        "! cd data && wget -nc https://raw.githubusercontent.com/UN-things/IS-project/main/data/tripadvisor_hotel_reviews.csv"
      ],
      "execution_count": 5,
      "outputs": [
        {
          "output_type": "stream",
          "text": [
            "--2021-07-23 10:08:29--  https://raw.githubusercontent.com/UN-things/IS-project/main/data/tripadvisor_hotel_reviews.csv\n",
            "Resolving raw.githubusercontent.com (raw.githubusercontent.com)... 185.199.108.133, 185.199.109.133, 185.199.110.133, ...\n",
            "Connecting to raw.githubusercontent.com (raw.githubusercontent.com)|185.199.108.133|:443... connected.\n",
            "HTTP request sent, awaiting response... 200 OK\n",
            "Length: 14966021 (14M) [text/plain]\n",
            "Saving to: ‘tripadvisor_hotel_reviews.csv’\n",
            "\n",
            "tripadvisor_hotel_r 100%[===================>]  14.27M  --.-KB/s    in 0.1s    \n",
            "\n",
            "2021-07-23 10:08:29 (128 MB/s) - ‘tripadvisor_hotel_reviews.csv’ saved [14966021/14966021]\n",
            "\n"
          ],
          "name": "stdout"
        }
      ]
    },
    {
      "cell_type": "code",
      "metadata": {
        "colab": {
          "base_uri": "https://localhost:8080/",
          "height": 204
        },
        "id": "MWbScXXTyyNJ",
        "outputId": "64c20be7-d6cc-4fb7-df01-0b21e24c1ec3"
      },
      "source": [
        "df = pd.read_csv('data/tripadvisor_hotel_reviews.csv', sep=',')\n",
        "df.head()"
      ],
      "execution_count": 7,
      "outputs": [
        {
          "output_type": "execute_result",
          "data": {
            "text/html": [
              "<div>\n",
              "<style scoped>\n",
              "    .dataframe tbody tr th:only-of-type {\n",
              "        vertical-align: middle;\n",
              "    }\n",
              "\n",
              "    .dataframe tbody tr th {\n",
              "        vertical-align: top;\n",
              "    }\n",
              "\n",
              "    .dataframe thead th {\n",
              "        text-align: right;\n",
              "    }\n",
              "</style>\n",
              "<table border=\"1\" class=\"dataframe\">\n",
              "  <thead>\n",
              "    <tr style=\"text-align: right;\">\n",
              "      <th></th>\n",
              "      <th>Review</th>\n",
              "      <th>Rating</th>\n",
              "    </tr>\n",
              "  </thead>\n",
              "  <tbody>\n",
              "    <tr>\n",
              "      <th>0</th>\n",
              "      <td>nice hotel expensive parking got good deal sta...</td>\n",
              "      <td>4</td>\n",
              "    </tr>\n",
              "    <tr>\n",
              "      <th>1</th>\n",
              "      <td>ok nothing special charge diamond member hilto...</td>\n",
              "      <td>2</td>\n",
              "    </tr>\n",
              "    <tr>\n",
              "      <th>2</th>\n",
              "      <td>nice rooms not 4* experience hotel monaco seat...</td>\n",
              "      <td>3</td>\n",
              "    </tr>\n",
              "    <tr>\n",
              "      <th>3</th>\n",
              "      <td>unique, great stay, wonderful time hotel monac...</td>\n",
              "      <td>5</td>\n",
              "    </tr>\n",
              "    <tr>\n",
              "      <th>4</th>\n",
              "      <td>great stay great stay, went seahawk game aweso...</td>\n",
              "      <td>5</td>\n",
              "    </tr>\n",
              "  </tbody>\n",
              "</table>\n",
              "</div>"
            ],
            "text/plain": [
              "                                              Review  Rating\n",
              "0  nice hotel expensive parking got good deal sta...       4\n",
              "1  ok nothing special charge diamond member hilto...       2\n",
              "2  nice rooms not 4* experience hotel monaco seat...       3\n",
              "3  unique, great stay, wonderful time hotel monac...       5\n",
              "4  great stay great stay, went seahawk game aweso...       5"
            ]
          },
          "metadata": {
            "tags": []
          },
          "execution_count": 7
        }
      ]
    },
    {
      "cell_type": "code",
      "metadata": {
        "colab": {
          "base_uri": "https://localhost:8080/",
          "height": 471
        },
        "id": "wf68JPcA1q0i",
        "outputId": "a0e640f6-4c1f-419f-b574-830368ace259"
      },
      "source": [
        "temp = df.groupby('Rating').size().reset_index(name=\"count\")\n",
        "temp['Percentage'] = round(100 * temp['count']  / temp['count'].sum(), 2)\n",
        "\n",
        "plt.rcParams['font.size'] = 16.0\n",
        "\n",
        "labels = temp['Rating']\n",
        "sizes = temp['Percentage']\n",
        "explode = (0.02, 0.02, 0.02, 0.02, 0.02)  # only \"explode\" the 2nd slice (i.e. 'Hogs')\n",
        "\n",
        "fig1, ax1 = plt.subplots(figsize=(8,8))\n",
        "ax1.pie(sizes, explode=explode, labels=labels, autopct='%1.1f%%',\n",
        "        shadow=True, startangle=90)\n",
        "ax1.axis('equal')  # Equal aspect ratio ensures that pie is drawn as a circle.\n",
        "\n",
        "plt.show()"
      ],
      "execution_count": 12,
      "outputs": [
        {
          "output_type": "display_data",
          "data": {
            "image/png": "[encoded data removed]",
            "text/plain": [
              "<Figure size 576x576 with 1 Axes>"
            ]
          },
          "metadata": {
            "tags": []
          }
        }
      ]
    },
    {
      "cell_type": "code",
      "metadata": {
        "colab": {
          "base_uri": "https://localhost:8080/",
          "height": 204
        },
        "id": "cJQlW_eh1u7Z",
        "outputId": "5ed13a43-83fa-4ee9-dedf-e57cd1fed1c7"
      },
      "source": [
        "sid = SentimentIntensityAnalyzer()\n",
        "df['scores'] = df['Review'].apply(lambda hotel_overview: sid.polarity_scores(str(hotel_overview)))\n",
        "df.head()"
      ],
      "execution_count": 13,
      "outputs": [
        {
          "output_type": "execute_result",
          "data": {
            "text/html": [
              "<div>\n",
              "<style scoped>\n",
              "    .dataframe tbody tr th:only-of-type {\n",
              "        vertical-align: middle;\n",
              "    }\n",
              "\n",
              "    .dataframe tbody tr th {\n",
              "        vertical-align: top;\n",
              "    }\n",
              "\n",
              "    .dataframe thead th {\n",
              "        text-align: right;\n",
              "    }\n",
              "</style>\n",
              "<table border=\"1\" class=\"dataframe\">\n",
              "  <thead>\n",
              "    <tr style=\"text-align: right;\">\n",
              "      <th></th>\n",
              "      <th>Review</th>\n",
              "      <th>Rating</th>\n",
              "      <th>scores</th>\n",
              "    </tr>\n",
              "  </thead>\n",
              "  <tbody>\n",
              "    <tr>\n",
              "      <th>0</th>\n",
              "      <td>nice hotel expensive parking got good deal sta...</td>\n",
              "      <td>4</td>\n",
              "      <td>{'neg': 0.072, 'neu': 0.643, 'pos': 0.285, 'co...</td>\n",
              "    </tr>\n",
              "    <tr>\n",
              "      <th>1</th>\n",
              "      <td>ok nothing special charge diamond member hilto...</td>\n",
              "      <td>2</td>\n",
              "      <td>{'neg': 0.11, 'neu': 0.701, 'pos': 0.189, 'com...</td>\n",
              "    </tr>\n",
              "    <tr>\n",
              "      <th>2</th>\n",
              "      <td>nice rooms not 4* experience hotel monaco seat...</td>\n",
              "      <td>3</td>\n",
              "      <td>{'neg': 0.081, 'neu': 0.7, 'pos': 0.219, 'comp...</td>\n",
              "    </tr>\n",
              "    <tr>\n",
              "      <th>3</th>\n",
              "      <td>unique, great stay, wonderful time hotel monac...</td>\n",
              "      <td>5</td>\n",
              "      <td>{'neg': 0.06, 'neu': 0.555, 'pos': 0.385, 'com...</td>\n",
              "    </tr>\n",
              "    <tr>\n",
              "      <th>4</th>\n",
              "      <td>great stay great stay, went seahawk game aweso...</td>\n",
              "      <td>5</td>\n",
              "      <td>{'neg': 0.135, 'neu': 0.643, 'pos': 0.221, 'co...</td>\n",
              "    </tr>\n",
              "  </tbody>\n",
              "</table>\n",
              "</div>"
            ],
            "text/plain": [
              "                                              Review  ...                                             scores\n",
              "0  nice hotel expensive parking got good deal sta...  ...  {'neg': 0.072, 'neu': 0.643, 'pos': 0.285, 'co...\n",
              "1  ok nothing special charge diamond member hilto...  ...  {'neg': 0.11, 'neu': 0.701, 'pos': 0.189, 'com...\n",
              "2  nice rooms not 4* experience hotel monaco seat...  ...  {'neg': 0.081, 'neu': 0.7, 'pos': 0.219, 'comp...\n",
              "3  unique, great stay, wonderful time hotel monac...  ...  {'neg': 0.06, 'neu': 0.555, 'pos': 0.385, 'com...\n",
              "4  great stay great stay, went seahawk game aweso...  ...  {'neg': 0.135, 'neu': 0.643, 'pos': 0.221, 'co...\n",
              "\n",
              "[5 rows x 3 columns]"
            ]
          },
          "metadata": {
            "tags": []
          },
          "execution_count": 13
        }
      ]
    },
    {
      "cell_type": "code",
      "metadata": {
        "colab": {
          "base_uri": "https://localhost:8080/",
          "height": 204
        },
        "id": "dWy8xHii2Opy",
        "outputId": "0325e0dd-9a9e-45e8-f145-612fff6a5d0c"
      },
      "source": [
        "df['compound'] = df['scores'].apply(lambda score_dict: score_dict['compound'])\n",
        "df['sentiment']=''\n",
        "df.loc[df.compound>0,'sentiment']='POSITIVE'\n",
        "df.loc[df.compound==0,'sentiment']='NEUTRAL'\n",
        "df.loc[df.compound<0,'sentiment']='NEGATIVE'\n",
        "df.head()"
      ],
      "execution_count": 14,
      "outputs": [
        {
          "output_type": "execute_result",
          "data": {
            "text/html": [
              "<div>\n",
              "<style scoped>\n",
              "    .dataframe tbody tr th:only-of-type {\n",
              "        vertical-align: middle;\n",
              "    }\n",
              "\n",
              "    .dataframe tbody tr th {\n",
              "        vertical-align: top;\n",
              "    }\n",
              "\n",
              "    .dataframe thead th {\n",
              "        text-align: right;\n",
              "    }\n",
              "</style>\n",
              "<table border=\"1\" class=\"dataframe\">\n",
              "  <thead>\n",
              "    <tr style=\"text-align: right;\">\n",
              "      <th></th>\n",
              "      <th>Review</th>\n",
              "      <th>Rating</th>\n",
              "      <th>scores</th>\n",
              "      <th>compound</th>\n",
              "      <th>sentiment</th>\n",
              "    </tr>\n",
              "  </thead>\n",
              "  <tbody>\n",
              "    <tr>\n",
              "      <th>0</th>\n",
              "      <td>nice hotel expensive parking got good deal sta...</td>\n",
              "      <td>4</td>\n",
              "      <td>{'neg': 0.072, 'neu': 0.643, 'pos': 0.285, 'co...</td>\n",
              "      <td>0.9747</td>\n",
              "      <td>POSITIVE</td>\n",
              "    </tr>\n",
              "    <tr>\n",
              "      <th>1</th>\n",
              "      <td>ok nothing special charge diamond member hilto...</td>\n",
              "      <td>2</td>\n",
              "      <td>{'neg': 0.11, 'neu': 0.701, 'pos': 0.189, 'com...</td>\n",
              "      <td>0.9787</td>\n",
              "      <td>POSITIVE</td>\n",
              "    </tr>\n",
              "    <tr>\n",
              "      <th>2</th>\n",
              "      <td>nice rooms not 4* experience hotel monaco seat...</td>\n",
              "      <td>3</td>\n",
              "      <td>{'neg': 0.081, 'neu': 0.7, 'pos': 0.219, 'comp...</td>\n",
              "      <td>0.9889</td>\n",
              "      <td>POSITIVE</td>\n",
              "    </tr>\n",
              "    <tr>\n",
              "      <th>3</th>\n",
              "      <td>unique, great stay, wonderful time hotel monac...</td>\n",
              "      <td>5</td>\n",
              "      <td>{'neg': 0.06, 'neu': 0.555, 'pos': 0.385, 'com...</td>\n",
              "      <td>0.9912</td>\n",
              "      <td>POSITIVE</td>\n",
              "    </tr>\n",
              "    <tr>\n",
              "      <th>4</th>\n",
              "      <td>great stay great stay, went seahawk game aweso...</td>\n",
              "      <td>5</td>\n",
              "      <td>{'neg': 0.135, 'neu': 0.643, 'pos': 0.221, 'co...</td>\n",
              "      <td>0.9797</td>\n",
              "      <td>POSITIVE</td>\n",
              "    </tr>\n",
              "  </tbody>\n",
              "</table>\n",
              "</div>"
            ],
            "text/plain": [
              "                                              Review  ...  sentiment\n",
              "0  nice hotel expensive parking got good deal sta...  ...   POSITIVE\n",
              "1  ok nothing special charge diamond member hilto...  ...   POSITIVE\n",
              "2  nice rooms not 4* experience hotel monaco seat...  ...   POSITIVE\n",
              "3  unique, great stay, wonderful time hotel monac...  ...   POSITIVE\n",
              "4  great stay great stay, went seahawk game aweso...  ...   POSITIVE\n",
              "\n",
              "[5 rows x 5 columns]"
            ]
          },
          "metadata": {
            "tags": []
          },
          "execution_count": 14
        }
      ]
    },
    {
      "cell_type": "code",
      "metadata": {
        "id": "a34gxzcazfWS",
        "colab": {
          "base_uri": "https://localhost:8080/",
          "height": 466
        },
        "outputId": "2e3e8784-c5fb-402f-9bb5-4c994d910247"
      },
      "source": [
        "temp_2 = df.groupby('sentiment').size().reset_index(name=\"count\")\n",
        "temp_2['Percentage'] = round(100 * temp_2['count']  / temp_2['count'].sum(), 2)\n",
        "\n",
        "labels = temp_2['sentiment']\n",
        "sizes = temp_2['Percentage']\n",
        "explode = (0.1, 0, 0.1)  # only \"explode\" the 2nd slice (i.e. 'Hogs')\n",
        "\n",
        "plt.rcParams['font.size'] = 16.0\n",
        "\n",
        "fig1, ax1 = plt.subplots(figsize=(8,8))\n",
        "ax1.pie(sizes, explode=explode, labels=labels, autopct='%1.1f%%',\n",
        "        shadow=True, startangle=90)\n",
        "ax1.axis('equal')  # Equal aspect ratio ensures that pie is drawn as a circle.\n",
        "\n",
        "plt.show()"
      ],
      "execution_count": 15,
      "outputs": [
        {
          "output_type": "display_data",
          "data": {
            "image/png": "[encoded data removed]",
            "text/plain": [
              "<Figure size 576x576 with 1 Axes>"
            ]
          },
          "metadata": {
            "tags": []
          }
        }
      ]
    }
  ]
}